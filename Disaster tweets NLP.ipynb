{
 "cells": [
  {
   "cell_type": "code",
   "execution_count": 1,
   "metadata": {},
   "outputs": [],
   "source": [
    "import pandas as pd\n",
    "import numpy as np\n",
    "import seaborn as sns\n",
    "import matplotlib.pyplot as plt\n",
    "import re\n",
    "import string\n",
    "import nltk\n",
    "from nltk.corpus import stopwords\n",
    "from nltk.stem import WordNetLemmatizer\n",
    "from sklearn.feature_extraction.text import CountVectorizer,TfidfVectorizer\n",
    "from sklearn.model_selection import train_test_split\n",
    "from sklearn.linear_model import LogisticRegression\n",
    "from sklearn.svm import SVC\n",
    "from sklearn.naive_bayes import MultinomialNB\n",
    "from sklearn.tree import DecisionTreeClassifier\n",
    "from sklearn.neighbors import KNeighborsClassifier\n",
    "from sklearn.ensemble import RandomForestClassifier\n",
    "from sklearn.metrics import classification_report, confusion_matrix, accuracy_score\n"
   ]
  },
  {
   "cell_type": "code",
   "execution_count": 2,
   "metadata": {},
   "outputs": [],
   "source": [
    "train_df = pd.read_csv(\"tweets_train.csv\")                        #import traning dataset"
   ]
  },
  {
   "cell_type": "code",
   "execution_count": 3,
   "metadata": {},
   "outputs": [],
   "source": [
    "test_df = pd.read_csv(\"tweets_test.csv\")                          #import test dataset"
   ]
  },
  {
   "cell_type": "code",
   "execution_count": 4,
   "metadata": {},
   "outputs": [
    {
     "name": "stdout",
     "output_type": "stream",
     "text": [
      "Shape : (7613, 5)\n",
      "   id keyword location                                               text  \\\n",
      "0   1     NaN      NaN  Our Deeds are the Reason of this #earthquake M...   \n",
      "1   4     NaN      NaN             Forest fire near La Ronge Sask. Canada   \n",
      "2   5     NaN      NaN  All residents asked to 'shelter in place' are ...   \n",
      "3   6     NaN      NaN  13,000 people receive #wildfires evacuation or...   \n",
      "4   7     NaN      NaN  Just got sent this photo from Ruby #Alaska as ...   \n",
      "\n",
      "   target  \n",
      "0       1  \n",
      "1       1  \n",
      "2       1  \n",
      "3       1  \n",
      "4       1  \n"
     ]
    }
   ],
   "source": [
    "print('Shape :',train_df.shape)                                   #shape of dataset(no. of rows and no. of columns)\n",
    "print (train_df.head())"
   ]
  },
  {
   "cell_type": "code",
   "execution_count": 5,
   "metadata": {},
   "outputs": [
    {
     "data": {
      "text/html": [
       "<div>\n",
       "<style scoped>\n",
       "    .dataframe tbody tr th:only-of-type {\n",
       "        vertical-align: middle;\n",
       "    }\n",
       "\n",
       "    .dataframe tbody tr th {\n",
       "        vertical-align: top;\n",
       "    }\n",
       "\n",
       "    .dataframe thead th {\n",
       "        text-align: right;\n",
       "    }\n",
       "</style>\n",
       "<table border=\"1\" class=\"dataframe\">\n",
       "  <thead>\n",
       "    <tr style=\"text-align: right;\">\n",
       "      <th></th>\n",
       "      <th>id</th>\n",
       "      <th>target</th>\n",
       "    </tr>\n",
       "  </thead>\n",
       "  <tbody>\n",
       "    <tr>\n",
       "      <td>count</td>\n",
       "      <td>7613.000000</td>\n",
       "      <td>7613.00000</td>\n",
       "    </tr>\n",
       "    <tr>\n",
       "      <td>mean</td>\n",
       "      <td>5441.934848</td>\n",
       "      <td>0.42966</td>\n",
       "    </tr>\n",
       "    <tr>\n",
       "      <td>std</td>\n",
       "      <td>3137.116090</td>\n",
       "      <td>0.49506</td>\n",
       "    </tr>\n",
       "    <tr>\n",
       "      <td>min</td>\n",
       "      <td>1.000000</td>\n",
       "      <td>0.00000</td>\n",
       "    </tr>\n",
       "    <tr>\n",
       "      <td>25%</td>\n",
       "      <td>2734.000000</td>\n",
       "      <td>0.00000</td>\n",
       "    </tr>\n",
       "    <tr>\n",
       "      <td>50%</td>\n",
       "      <td>5408.000000</td>\n",
       "      <td>0.00000</td>\n",
       "    </tr>\n",
       "    <tr>\n",
       "      <td>75%</td>\n",
       "      <td>8146.000000</td>\n",
       "      <td>1.00000</td>\n",
       "    </tr>\n",
       "    <tr>\n",
       "      <td>max</td>\n",
       "      <td>10873.000000</td>\n",
       "      <td>1.00000</td>\n",
       "    </tr>\n",
       "  </tbody>\n",
       "</table>\n",
       "</div>"
      ],
      "text/plain": [
       "                 id      target\n",
       "count   7613.000000  7613.00000\n",
       "mean    5441.934848     0.42966\n",
       "std     3137.116090     0.49506\n",
       "min        1.000000     0.00000\n",
       "25%     2734.000000     0.00000\n",
       "50%     5408.000000     0.00000\n",
       "75%     8146.000000     1.00000\n",
       "max    10873.000000     1.00000"
      ]
     },
     "execution_count": 5,
     "metadata": {},
     "output_type": "execute_result"
    }
   ],
   "source": [
    "train_df.describe()"
   ]
  },
  {
   "cell_type": "code",
   "execution_count": 6,
   "metadata": {},
   "outputs": [
    {
     "data": {
      "text/html": [
       "<div>\n",
       "<style scoped>\n",
       "    .dataframe tbody tr th:only-of-type {\n",
       "        vertical-align: middle;\n",
       "    }\n",
       "\n",
       "    .dataframe tbody tr th {\n",
       "        vertical-align: top;\n",
       "    }\n",
       "\n",
       "    .dataframe thead th {\n",
       "        text-align: right;\n",
       "    }\n",
       "</style>\n",
       "<table border=\"1\" class=\"dataframe\">\n",
       "  <thead>\n",
       "    <tr style=\"text-align: right;\">\n",
       "      <th></th>\n",
       "      <th>id</th>\n",
       "    </tr>\n",
       "  </thead>\n",
       "  <tbody>\n",
       "    <tr>\n",
       "      <td>count</td>\n",
       "      <td>3263.000000</td>\n",
       "    </tr>\n",
       "    <tr>\n",
       "      <td>mean</td>\n",
       "      <td>5427.152927</td>\n",
       "    </tr>\n",
       "    <tr>\n",
       "      <td>std</td>\n",
       "      <td>3146.427221</td>\n",
       "    </tr>\n",
       "    <tr>\n",
       "      <td>min</td>\n",
       "      <td>0.000000</td>\n",
       "    </tr>\n",
       "    <tr>\n",
       "      <td>25%</td>\n",
       "      <td>2683.000000</td>\n",
       "    </tr>\n",
       "    <tr>\n",
       "      <td>50%</td>\n",
       "      <td>5500.000000</td>\n",
       "    </tr>\n",
       "    <tr>\n",
       "      <td>75%</td>\n",
       "      <td>8176.000000</td>\n",
       "    </tr>\n",
       "    <tr>\n",
       "      <td>max</td>\n",
       "      <td>10875.000000</td>\n",
       "    </tr>\n",
       "  </tbody>\n",
       "</table>\n",
       "</div>"
      ],
      "text/plain": [
       "                 id\n",
       "count   3263.000000\n",
       "mean    5427.152927\n",
       "std     3146.427221\n",
       "min        0.000000\n",
       "25%     2683.000000\n",
       "50%     5500.000000\n",
       "75%     8176.000000\n",
       "max    10875.000000"
      ]
     },
     "execution_count": 6,
     "metadata": {},
     "output_type": "execute_result"
    }
   ],
   "source": [
    "test_df.describe()                                            #description of complete traning dataset"
   ]
  },
  {
   "cell_type": "code",
   "execution_count": 7,
   "metadata": {},
   "outputs": [
    {
     "data": {
      "text/plain": [
       "id             0\n",
       "keyword       61\n",
       "location    2533\n",
       "text           0\n",
       "target         0\n",
       "dtype: int64"
      ]
     },
     "execution_count": 7,
     "metadata": {},
     "output_type": "execute_result"
    }
   ],
   "source": [
    "train_df.isna().sum()                                           # no. of null records in each column of training dataset"
   ]
  },
  {
   "cell_type": "code",
   "execution_count": 8,
   "metadata": {},
   "outputs": [
    {
     "data": {
      "text/plain": [
       "id             0\n",
       "keyword       26\n",
       "location    1105\n",
       "text           0\n",
       "dtype: int64"
      ]
     },
     "execution_count": 8,
     "metadata": {},
     "output_type": "execute_result"
    }
   ],
   "source": [
    "test_df.isna().sum()                                            # no. of null records in each column of test dataset"
   ]
  },
  {
   "cell_type": "code",
   "execution_count": 9,
   "metadata": {},
   "outputs": [
    {
     "data": {
      "text/plain": [
       "1    102\n",
       "0     40\n",
       "Name: target, dtype: int64"
      ]
     },
     "execution_count": 9,
     "metadata": {},
     "output_type": "execute_result"
    }
   ],
   "source": [
    "train_df.loc[train_df['text'].str.contains('disaster', na=False, case=False)].target.value_counts()"
   ]
  },
  {
   "cell_type": "code",
   "execution_count": 10,
   "metadata": {},
   "outputs": [
    {
     "data": {
      "text/html": [
       "<div>\n",
       "<style scoped>\n",
       "    .dataframe tbody tr th:only-of-type {\n",
       "        vertical-align: middle;\n",
       "    }\n",
       "\n",
       "    .dataframe tbody tr th {\n",
       "        vertical-align: top;\n",
       "    }\n",
       "\n",
       "    .dataframe thead th {\n",
       "        text-align: right;\n",
       "    }\n",
       "</style>\n",
       "<table border=\"1\" class=\"dataframe\">\n",
       "  <thead>\n",
       "    <tr style=\"text-align: right;\">\n",
       "      <th></th>\n",
       "      <th>id</th>\n",
       "      <th>keyword</th>\n",
       "      <th>location</th>\n",
       "      <th>text</th>\n",
       "      <th>target</th>\n",
       "      <th>text_length</th>\n",
       "    </tr>\n",
       "  </thead>\n",
       "  <tbody>\n",
       "    <tr>\n",
       "      <td>0</td>\n",
       "      <td>1</td>\n",
       "      <td>NaN</td>\n",
       "      <td>NaN</td>\n",
       "      <td>Our Deeds are the Reason of this #earthquake M...</td>\n",
       "      <td>1</td>\n",
       "      <td>69</td>\n",
       "    </tr>\n",
       "    <tr>\n",
       "      <td>1</td>\n",
       "      <td>4</td>\n",
       "      <td>NaN</td>\n",
       "      <td>NaN</td>\n",
       "      <td>Forest fire near La Ronge Sask. Canada</td>\n",
       "      <td>1</td>\n",
       "      <td>38</td>\n",
       "    </tr>\n",
       "    <tr>\n",
       "      <td>2</td>\n",
       "      <td>5</td>\n",
       "      <td>NaN</td>\n",
       "      <td>NaN</td>\n",
       "      <td>All residents asked to 'shelter in place' are ...</td>\n",
       "      <td>1</td>\n",
       "      <td>133</td>\n",
       "    </tr>\n",
       "    <tr>\n",
       "      <td>3</td>\n",
       "      <td>6</td>\n",
       "      <td>NaN</td>\n",
       "      <td>NaN</td>\n",
       "      <td>13,000 people receive #wildfires evacuation or...</td>\n",
       "      <td>1</td>\n",
       "      <td>65</td>\n",
       "    </tr>\n",
       "    <tr>\n",
       "      <td>4</td>\n",
       "      <td>7</td>\n",
       "      <td>NaN</td>\n",
       "      <td>NaN</td>\n",
       "      <td>Just got sent this photo from Ruby #Alaska as ...</td>\n",
       "      <td>1</td>\n",
       "      <td>88</td>\n",
       "    </tr>\n",
       "  </tbody>\n",
       "</table>\n",
       "</div>"
      ],
      "text/plain": [
       "   id keyword location                                               text  \\\n",
       "0   1     NaN      NaN  Our Deeds are the Reason of this #earthquake M...   \n",
       "1   4     NaN      NaN             Forest fire near La Ronge Sask. Canada   \n",
       "2   5     NaN      NaN  All residents asked to 'shelter in place' are ...   \n",
       "3   6     NaN      NaN  13,000 people receive #wildfires evacuation or...   \n",
       "4   7     NaN      NaN  Just got sent this photo from Ruby #Alaska as ...   \n",
       "\n",
       "   target  text_length  \n",
       "0       1           69  \n",
       "1       1           38  \n",
       "2       1          133  \n",
       "3       1           65  \n",
       "4       1           88  "
      ]
     },
     "execution_count": 10,
     "metadata": {},
     "output_type": "execute_result"
    }
   ],
   "source": [
    "train_df['text_length'] = train_df['text'].apply(lambda x : len(x))\n",
    "train_df.head()"
   ]
  },
  {
   "cell_type": "code",
   "execution_count": 11,
   "metadata": {},
   "outputs": [
    {
     "data": {
      "text/plain": [
       "count    7613.000000\n",
       "mean      101.037436\n",
       "std        33.781325\n",
       "min         7.000000\n",
       "25%        78.000000\n",
       "50%       107.000000\n",
       "75%       133.000000\n",
       "max       157.000000\n",
       "Name: text_length, dtype: float64"
      ]
     },
     "execution_count": 11,
     "metadata": {},
     "output_type": "execute_result"
    }
   ],
   "source": [
    "train_df.text_length.describe()"
   ]
  },
  {
   "cell_type": "code",
   "execution_count": 12,
   "metadata": {},
   "outputs": [
    {
     "data": {
      "image/png": "[encoded data removed]",
      "text/plain": [
       "<Figure size 720x432 with 2 Axes>"
      ]
     },
     "metadata": {
      "needs_background": "light"
     },
     "output_type": "display_data"
    }
   ],
   "source": [
    "f, (ax1, ax2) = plt.subplots(1, 2, sharex=True,figsize=(10,6))\n",
    "sns.distplot(train_df[(train_df['target'] == 1)]['text_length'], ax=ax1, kde=False, color='green',label='Disater Tweets')\n",
    "sns.distplot(train_df[(train_df['target'] == 0)]['text_length'],ax=ax2, kde=False, color='red',label='Non-Disater Tweets');\n",
    "f.suptitle('Tweet length distribution')\n",
    "f.legend(loc='upper right')\n",
    "ax1.grid()\n",
    "ax2.grid()\n",
    "plt.show()"
   ]
  },
  {
   "cell_type": "code",
   "execution_count": 13,
   "metadata": {},
   "outputs": [
    {
     "data": {
      "text/plain": [
       "10          Three people died from the heat wave so far\n",
       "11    Haha South Tampa is getting flooded hah- WAIT ...\n",
       "12    #raining #flooding #Florida #TampaBay #Tampa 1...\n",
       "13              #Flood in Bago Myanmar #We arrived Bago\n",
       "14    Damage to school bus on 80 in multi car crash ...\n",
       "31    @bbcmtd Wholesale Markets ablaze http://t.co/l...\n",
       "33    #AFRICANBAZE: Breaking news:Nigeria flag set a...\n",
       "37    INEC Office in Abia Set Ablaze - http://t.co/3...\n",
       "38    Barbados #Bridgetown JAMAICA ÛÒ Two cars set ...\n",
       "46    How the West was burned: Thousands of wildfire...\n",
       "Name: text, dtype: object"
      ]
     },
     "execution_count": 13,
     "metadata": {},
     "output_type": "execute_result"
    }
   ],
   "source": [
    "train_df[train_df['target']==1]['text'][10:20]"
   ]
  },
  {
   "cell_type": "code",
   "execution_count": 14,
   "metadata": {},
   "outputs": [
    {
     "data": {
      "text/plain": [
       "25                       No way...I can't eat that shit\n",
       "26                                Was in NYC last week!\n",
       "27                                   Love my girlfriend\n",
       "28                                            Cooool :)\n",
       "29                                   Do you like pasta?\n",
       "30                                             The end!\n",
       "32    We always try to bring the heavy. #metal #RT h...\n",
       "34                   Crying out for more! Set me ablaze\n",
       "35    On plus side LOOK AT THE SKY LAST NIGHT IT WAS...\n",
       "36    @PhDSquares #mufc they've built so much hype a...\n",
       "Name: text, dtype: object"
      ]
     },
     "execution_count": 14,
     "metadata": {},
     "output_type": "execute_result"
    }
   ],
   "source": [
    "train_df[train_df['target']==0]['text'][10:20]"
   ]
  },
  {
   "cell_type": "code",
   "execution_count": 15,
   "metadata": {},
   "outputs": [
    {
     "data": {
      "text/plain": [
       "0                   Just happened a terrible car crash\n",
       "1    Heard about #earthquake is different cities, s...\n",
       "2    there is a forest fire at spot pond, geese are...\n",
       "3             Apocalypse lighting. #Spokane #wildfires\n",
       "4        Typhoon Soudelor kills 28 in China and Taiwan\n",
       "5                   We're shaking...It's an earthquake\n",
       "6    They'd probably still show more life than Arse...\n",
       "7                                    Hey! How are you?\n",
       "8                                     What a nice hat?\n",
       "9                                            Fuck off!\n",
       "Name: text, dtype: object"
      ]
     },
     "execution_count": 15,
     "metadata": {},
     "output_type": "execute_result"
    }
   ],
   "source": [
    "test_df['text'][:10] "
   ]
  },
  {
   "cell_type": "code",
   "execution_count": 16,
   "metadata": {},
   "outputs": [],
   "source": [
    "# Now we need to clean text column of training and test dataset. Lets make function for cleaning data.\n",
    "# Remove remove square brackets,links,punctuation and words containing numbers.\n",
    "# Convert text into lower case.\n",
    "def clean_text(text):\n",
    "\n",
    "    text = text.lower()\n",
    "    text = re.sub('\\[.*?\\]', '', text)\n",
    "    text = re.sub('https?://\\S+|www\\.\\S+', '', text)\n",
    "    text = re.sub('<.*?>+', '', text)\n",
    "    text = re.sub('[%s]' % re.escape(string.punctuation), '', text)\n",
    "    text = re.sub('\\n', '', text)\n",
    "    text = re.sub('\\w*\\d\\w*', '', text)\n",
    "    return text"
   ]
  },
  {
   "cell_type": "code",
   "execution_count": 17,
   "metadata": {},
   "outputs": [],
   "source": [
    "# apply text cleaning function to training an test datasets.\n",
    "train=train_df.copy()\n",
    "test=test_df.copy()\n",
    "train['text'] = train['text'].apply(lambda x: clean_text(x))\n",
    "test['text'] = test['text'].apply(lambda x: clean_text(x))"
   ]
  },
  {
   "cell_type": "code",
   "execution_count": 18,
   "metadata": {},
   "outputs": [
    {
     "name": "stdout",
     "output_type": "stream",
     "text": [
      "         id keyword location  \\\n",
      "0         1     NaN      NaN   \n",
      "1         4     NaN      NaN   \n",
      "2         5     NaN      NaN   \n",
      "3         6     NaN      NaN   \n",
      "4         7     NaN      NaN   \n",
      "...     ...     ...      ...   \n",
      "7608  10869     NaN      NaN   \n",
      "7609  10870     NaN      NaN   \n",
      "7610  10871     NaN      NaN   \n",
      "7611  10872     NaN      NaN   \n",
      "7612  10873     NaN      NaN   \n",
      "\n",
      "                                                   text  target  text_length  \n",
      "0     our deeds are the reason of this earthquake ma...       1           69  \n",
      "1                 forest fire near la ronge sask canada       1           38  \n",
      "2     all residents asked to shelter in place are be...       1          133  \n",
      "3      people receive wildfires evacuation orders in...       1           65  \n",
      "4     just got sent this photo from ruby alaska as s...       1           88  \n",
      "...                                                 ...     ...          ...  \n",
      "7608  two giant cranes holding a bridge collapse int...       1           83  \n",
      "7609  ariaahrary thetawniest the out of control wild...       1          125  \n",
      "7610                               s of volcano hawaii        1           65  \n",
      "7611  police investigating after an ebike collided w...       1          137  \n",
      "7612  the latest more homes razed by northern califo...       1           94  \n",
      "\n",
      "[7613 rows x 6 columns]\n"
     ]
    }
   ],
   "source": [
    "print(train)                                    # After cleaning train dataset"
   ]
  },
  {
   "cell_type": "code",
   "execution_count": 19,
   "metadata": {},
   "outputs": [
    {
     "name": "stdout",
     "output_type": "stream",
     "text": [
      "         id keyword location  \\\n",
      "0         0     NaN      NaN   \n",
      "1         2     NaN      NaN   \n",
      "2         3     NaN      NaN   \n",
      "3         9     NaN      NaN   \n",
      "4        11     NaN      NaN   \n",
      "...     ...     ...      ...   \n",
      "3258  10861     NaN      NaN   \n",
      "3259  10865     NaN      NaN   \n",
      "3260  10868     NaN      NaN   \n",
      "3261  10874     NaN      NaN   \n",
      "3262  10875     NaN      NaN   \n",
      "\n",
      "                                                   text  \n",
      "0                    just happened a terrible car crash  \n",
      "1     heard about earthquake is different cities sta...  \n",
      "2     there is a forest fire at spot pond geese are ...  \n",
      "3                 apocalypse lighting spokane wildfires  \n",
      "4           typhoon soudelor kills  in china and taiwan  \n",
      "...                                                 ...  \n",
      "3258  earthquake safety los angeles ûò safety faste...  \n",
      "3259  storm in ri worse than last hurricane my  hard...  \n",
      "3260                  green line derailment in chicago   \n",
      "3261          meg issues hazardous weather outlook hwo   \n",
      "3262  cityofcalgary has activated its municipal emer...  \n",
      "\n",
      "[3263 rows x 4 columns]\n"
     ]
    }
   ],
   "source": [
    "print(test)                                           # After cleaning train dataset"
   ]
  },
  {
   "cell_type": "code",
   "execution_count": 20,
   "metadata": {},
   "outputs": [],
   "source": [
    "# Lets Tokenize the training and the test dataset copies with RegEx tokenizer\n",
    "\n",
    "tokenizer = nltk.tokenize.RegexpTokenizer(r'\\w+')\n",
    "train['text'] = train['text'].apply(lambda x: tokenizer.tokenize(x))\n",
    "test['text'] = test['text'].apply(lambda x: tokenizer.tokenize(x))"
   ]
  },
  {
   "cell_type": "code",
   "execution_count": 21,
   "metadata": {},
   "outputs": [
    {
     "data": {
      "text/plain": [
       "0    [our, deeds, are, the, reason, of, this, earth...\n",
       "1        [forest, fire, near, la, ronge, sask, canada]\n",
       "2    [all, residents, asked, to, shelter, in, place...\n",
       "3    [people, receive, wildfires, evacuation, order...\n",
       "4    [just, got, sent, this, photo, from, ruby, ala...\n",
       "Name: text, dtype: object"
      ]
     },
     "execution_count": 21,
     "metadata": {},
     "output_type": "execute_result"
    }
   ],
   "source": [
    "train['text'].head()                                           # After tokenizing training dataset."
   ]
  },
  {
   "cell_type": "code",
   "execution_count": 22,
   "metadata": {},
   "outputs": [],
   "source": [
    "# Get all stopwords together\n",
    "stop = stopwords.words(\"english\")\n",
    "item=['amp']\n",
    "stop.extend(item)"
   ]
  },
  {
   "cell_type": "code",
   "execution_count": 23,
   "metadata": {},
   "outputs": [],
   "source": [
    "#Remove stopwords from each record of training and test dataset.\n",
    "train['text']=train['text'].apply(lambda x: [item for item in x if item not in stop])\n",
    "test['text']=test['text'].apply(lambda x: [item for item in x if item not in stop])"
   ]
  },
  {
   "cell_type": "code",
   "execution_count": 24,
   "metadata": {},
   "outputs": [
    {
     "data": {
      "text/plain": [
       "0    [deeds, reason, earthquake, may, allah, forgiv...\n",
       "1        [forest, fire, near, la, ronge, sask, canada]\n",
       "2    [residents, asked, shelter, place, notified, o...\n",
       "3    [people, receive, wildfires, evacuation, order...\n",
       "4    [got, sent, photo, ruby, alaska, smoke, wildfi...\n",
       "Name: text, dtype: object"
      ]
     },
     "execution_count": 24,
     "metadata": {},
     "output_type": "execute_result"
    }
   ],
   "source": [
    "train['text'].head()                                             # After removing stopwords from training dataset."
   ]
  },
  {
   "cell_type": "code",
   "execution_count": 25,
   "metadata": {},
   "outputs": [
    {
     "data": {
      "text/plain": [
       "0                     [happened, terrible, car, crash]\n",
       "1    [heard, earthquake, different, cities, stay, s...\n",
       "2    [forest, fire, spot, pond, geese, fleeing, acr...\n",
       "3           [apocalypse, lighting, spokane, wildfires]\n",
       "4            [typhoon, soudelor, kills, china, taiwan]\n",
       "Name: text, dtype: object"
      ]
     },
     "execution_count": 25,
     "metadata": {},
     "output_type": "execute_result"
    }
   ],
   "source": [
    "test['text'].head()                                              # After removing stopwords from training dataset."
   ]
  },
  {
   "cell_type": "code",
   "execution_count": 26,
   "metadata": {},
   "outputs": [],
   "source": [
    "# Instantiating lemmatizer \n",
    "lemmatizer = WordNetLemmatizer()"
   ]
  },
  {
   "cell_type": "code",
   "execution_count": 27,
   "metadata": {},
   "outputs": [],
   "source": [
    "# lemmatization of training dataset\n",
    "lemmatize_words=[]\n",
    "for i in range (len(train['text'])):\n",
    "    word=''\n",
    "    for j in range(len(train['text'][i])):\n",
    "        lemm_word=lemmatizer.lemmatize(train['text'][i][j])     # lemmatize\n",
    "        \n",
    "        word=word + ' '+lemm_word                               # joining tokens into sentence    \n",
    "    lemmatize_words.append(word)                                # store in list"
   ]
  },
  {
   "cell_type": "code",
   "execution_count": 28,
   "metadata": {},
   "outputs": [],
   "source": [
    "train['text']=lemmatize_words                                   # Assign lemmatize words to train['text']"
   ]
  },
  {
   "cell_type": "code",
   "execution_count": 29,
   "metadata": {},
   "outputs": [
    {
     "data": {
      "text/html": [
       "<div>\n",
       "<style scoped>\n",
       "    .dataframe tbody tr th:only-of-type {\n",
       "        vertical-align: middle;\n",
       "    }\n",
       "\n",
       "    .dataframe tbody tr th {\n",
       "        vertical-align: top;\n",
       "    }\n",
       "\n",
       "    .dataframe thead th {\n",
       "        text-align: right;\n",
       "    }\n",
       "</style>\n",
       "<table border=\"1\" class=\"dataframe\">\n",
       "  <thead>\n",
       "    <tr style=\"text-align: right;\">\n",
       "      <th></th>\n",
       "      <th>id</th>\n",
       "      <th>keyword</th>\n",
       "      <th>location</th>\n",
       "      <th>text</th>\n",
       "      <th>target</th>\n",
       "      <th>text_length</th>\n",
       "    </tr>\n",
       "  </thead>\n",
       "  <tbody>\n",
       "    <tr>\n",
       "      <td>0</td>\n",
       "      <td>1</td>\n",
       "      <td>NaN</td>\n",
       "      <td>NaN</td>\n",
       "      <td>deed reason earthquake may allah forgive u</td>\n",
       "      <td>1</td>\n",
       "      <td>69</td>\n",
       "    </tr>\n",
       "    <tr>\n",
       "      <td>1</td>\n",
       "      <td>4</td>\n",
       "      <td>NaN</td>\n",
       "      <td>NaN</td>\n",
       "      <td>forest fire near la ronge sask canada</td>\n",
       "      <td>1</td>\n",
       "      <td>38</td>\n",
       "    </tr>\n",
       "    <tr>\n",
       "      <td>2</td>\n",
       "      <td>5</td>\n",
       "      <td>NaN</td>\n",
       "      <td>NaN</td>\n",
       "      <td>resident asked shelter place notified officer...</td>\n",
       "      <td>1</td>\n",
       "      <td>133</td>\n",
       "    </tr>\n",
       "    <tr>\n",
       "      <td>3</td>\n",
       "      <td>6</td>\n",
       "      <td>NaN</td>\n",
       "      <td>NaN</td>\n",
       "      <td>people receive wildfire evacuation order cali...</td>\n",
       "      <td>1</td>\n",
       "      <td>65</td>\n",
       "    </tr>\n",
       "    <tr>\n",
       "      <td>4</td>\n",
       "      <td>7</td>\n",
       "      <td>NaN</td>\n",
       "      <td>NaN</td>\n",
       "      <td>got sent photo ruby alaska smoke wildfire pou...</td>\n",
       "      <td>1</td>\n",
       "      <td>88</td>\n",
       "    </tr>\n",
       "  </tbody>\n",
       "</table>\n",
       "</div>"
      ],
      "text/plain": [
       "   id keyword location                                               text  \\\n",
       "0   1     NaN      NaN         deed reason earthquake may allah forgive u   \n",
       "1   4     NaN      NaN              forest fire near la ronge sask canada   \n",
       "2   5     NaN      NaN   resident asked shelter place notified officer...   \n",
       "3   6     NaN      NaN   people receive wildfire evacuation order cali...   \n",
       "4   7     NaN      NaN   got sent photo ruby alaska smoke wildfire pou...   \n",
       "\n",
       "   target  text_length  \n",
       "0       1           69  \n",
       "1       1           38  \n",
       "2       1          133  \n",
       "3       1           65  \n",
       "4       1           88  "
      ]
     },
     "execution_count": 29,
     "metadata": {},
     "output_type": "execute_result"
    }
   ],
   "source": [
    "train.head()"
   ]
  },
  {
   "cell_type": "code",
   "execution_count": 30,
   "metadata": {},
   "outputs": [],
   "source": [
    "# Lemmatization of test dataset\n",
    "lemmatize_words1=[]\n",
    "for i in range (len(test['text'])):\n",
    "    word=''\n",
    "    for j in range(len(test['text'][i])):\n",
    "        lemm_word=lemmatizer.lemmatize(test['text'][i][j])          # lemmatize\n",
    "        \n",
    "        word=word + ' '+lemm_word                                   # joining tokens into sentence    \n",
    "    lemmatize_words1.append(word)                                   # store in list"
   ]
  },
  {
   "cell_type": "code",
   "execution_count": 31,
   "metadata": {},
   "outputs": [],
   "source": [
    "test['text']=lemmatize_words1"
   ]
  },
  {
   "cell_type": "code",
   "execution_count": 32,
   "metadata": {},
   "outputs": [
    {
     "name": "stdout",
     "output_type": "stream",
     "text": [
      "[[0 0 0 ... 0 0 0]]\n"
     ]
    }
   ],
   "source": [
    "# Vectorize the text using CountVectorizer\n",
    "count_vectorizer = CountVectorizer()\n",
    "train_cv = count_vectorizer.fit_transform(train['text'])\n",
    "test_cv = count_vectorizer.transform(test[\"text\"])\n",
    "\n",
    "# Keeping only non-zero elements to preserve space \n",
    "print(train_cv[0].todense())"
   ]
  },
  {
   "cell_type": "code",
   "execution_count": 33,
   "metadata": {},
   "outputs": [],
   "source": [
    "#Split the CountVector vectorized data into train and test datasets for model training and testing\n",
    "X_train_cv, X_test_cv, y_train_cv, y_test_cv =train_test_split(train_cv,train_df.target,test_size=0.2,random_state=2020)"
   ]
  },
  {
   "cell_type": "code",
   "execution_count": 34,
   "metadata": {},
   "outputs": [],
   "source": [
    "# Function to predict target in training and testing data.\n",
    "# Print accuracy of model\n",
    "def predict(model,X_train,y_train,X_test,y_test):\n",
    "    \n",
    "    clf = model\n",
    "    clf.fit(X_train, y_train)\n",
    "    predictions=clf.predict(X_test)\n",
    "    confusion_matrix(y_test,predictions)\n",
    "    print(classification_report(y_test,predictions))\n",
    "    print('-'*50)\n",
    "    print(\"{}\" .format(model))\n",
    "    print('-'*50)\n",
    "    print('Accuracy of classifier on training set:{}%'.format(round(clf.score(X_train, y_train)*100)))\n",
    "    print('-'*50)\n",
    "    print('Accuracy of classifier on test set:{}%' .format(round(accuracy_score(y_test,predictions)*100)))\n",
    "    print('-'*50)\n"
   ]
  },
  {
   "cell_type": "code",
   "execution_count": 35,
   "metadata": {},
   "outputs": [],
   "source": [
    "# Create a list of the regression models to be used\n",
    "models=[LogisticRegression(C=1.0),SVC(),MultinomialNB(),DecisionTreeClassifier(),\n",
    "        KNeighborsClassifier(n_neighbors=5),RandomForestClassifier()]"
   ]
  },
  {
   "cell_type": "code",
   "execution_count": 36,
   "metadata": {},
   "outputs": [
    {
     "name": "stderr",
     "output_type": "stream",
     "text": [
      "C:\\Users\\hp\\Anaconda3\\lib\\site-packages\\sklearn\\linear_model\\logistic.py:432: FutureWarning: Default solver will be changed to 'lbfgs' in 0.22. Specify a solver to silence this warning.\n",
      "  FutureWarning)\n",
      "C:\\Users\\hp\\Anaconda3\\lib\\site-packages\\sklearn\\svm\\base.py:193: FutureWarning: The default value of gamma will change from 'auto' to 'scale' in version 0.22 to account better for unscaled features. Set gamma explicitly to 'auto' or 'scale' to avoid this warning.\n",
      "  \"avoid this warning.\", FutureWarning)\n"
     ]
    },
    {
     "name": "stdout",
     "output_type": "stream",
     "text": [
      "              precision    recall  f1-score   support\n",
      "\n",
      "           0       0.79      0.88      0.83       849\n",
      "           1       0.82      0.70      0.76       674\n",
      "\n",
      "    accuracy                           0.80      1523\n",
      "   macro avg       0.81      0.79      0.80      1523\n",
      "weighted avg       0.80      0.80      0.80      1523\n",
      "\n",
      "--------------------------------------------------\n",
      "LogisticRegression(C=1.0, class_weight=None, dual=False, fit_intercept=True,\n",
      "                   intercept_scaling=1, l1_ratio=None, max_iter=100,\n",
      "                   multi_class='warn', n_jobs=None, penalty='l2',\n",
      "                   random_state=None, solver='warn', tol=0.0001, verbose=0,\n",
      "                   warm_start=False)\n",
      "--------------------------------------------------\n",
      "Accuracy of classifier on training set:96.0%\n",
      "--------------------------------------------------\n",
      "Accuracy of classifier on test set:80.0%\n",
      "--------------------------------------------------\n"
     ]
    },
    {
     "name": "stderr",
     "output_type": "stream",
     "text": [
      "C:\\Users\\hp\\Anaconda3\\lib\\site-packages\\sklearn\\metrics\\classification.py:1437: UndefinedMetricWarning: Precision and F-score are ill-defined and being set to 0.0 in labels with no predicted samples.\n",
      "  'precision', 'predicted', average, warn_for)\n"
     ]
    },
    {
     "name": "stdout",
     "output_type": "stream",
     "text": [
      "              precision    recall  f1-score   support\n",
      "\n",
      "           0       0.56      1.00      0.72       849\n",
      "           1       0.00      0.00      0.00       674\n",
      "\n",
      "    accuracy                           0.56      1523\n",
      "   macro avg       0.28      0.50      0.36      1523\n",
      "weighted avg       0.31      0.56      0.40      1523\n",
      "\n",
      "--------------------------------------------------\n",
      "SVC(C=1.0, cache_size=200, class_weight=None, coef0=0.0,\n",
      "    decision_function_shape='ovr', degree=3, gamma='auto_deprecated',\n",
      "    kernel='rbf', max_iter=-1, probability=False, random_state=None,\n",
      "    shrinking=True, tol=0.001, verbose=False)\n",
      "--------------------------------------------------\n",
      "Accuracy of classifier on training set:57.0%\n",
      "--------------------------------------------------\n",
      "Accuracy of classifier on test set:56.0%\n",
      "--------------------------------------------------\n",
      "              precision    recall  f1-score   support\n",
      "\n",
      "           0       0.81      0.84      0.82       849\n",
      "           1       0.79      0.75      0.77       674\n",
      "\n",
      "    accuracy                           0.80      1523\n",
      "   macro avg       0.80      0.79      0.80      1523\n",
      "weighted avg       0.80      0.80      0.80      1523\n",
      "\n",
      "--------------------------------------------------\n",
      "MultinomialNB(alpha=1.0, class_prior=None, fit_prior=True)\n",
      "--------------------------------------------------\n",
      "Accuracy of classifier on training set:91.0%\n",
      "--------------------------------------------------\n",
      "Accuracy of classifier on test set:80.0%\n",
      "--------------------------------------------------\n",
      "              precision    recall  f1-score   support\n",
      "\n",
      "           0       0.76      0.84      0.80       849\n",
      "           1       0.77      0.66      0.71       674\n",
      "\n",
      "    accuracy                           0.76      1523\n",
      "   macro avg       0.76      0.75      0.75      1523\n",
      "weighted avg       0.76      0.76      0.76      1523\n",
      "\n",
      "--------------------------------------------------\n",
      "DecisionTreeClassifier(class_weight=None, criterion='gini', max_depth=None,\n",
      "                       max_features=None, max_leaf_nodes=None,\n",
      "                       min_impurity_decrease=0.0, min_impurity_split=None,\n",
      "                       min_samples_leaf=1, min_samples_split=2,\n",
      "                       min_weight_fraction_leaf=0.0, presort=False,\n",
      "                       random_state=None, splitter='best')\n",
      "--------------------------------------------------\n",
      "Accuracy of classifier on training set:99.0%\n",
      "--------------------------------------------------\n",
      "Accuracy of classifier on test set:76.0%\n",
      "--------------------------------------------------\n",
      "              precision    recall  f1-score   support\n",
      "\n",
      "           0       0.65      0.97      0.78       849\n",
      "           1       0.89      0.34      0.49       674\n",
      "\n",
      "    accuracy                           0.69      1523\n",
      "   macro avg       0.77      0.65      0.64      1523\n",
      "weighted avg       0.76      0.69      0.65      1523\n",
      "\n",
      "--------------------------------------------------\n",
      "KNeighborsClassifier(algorithm='auto', leaf_size=30, metric='minkowski',\n",
      "                     metric_params=None, n_jobs=None, n_neighbors=5, p=2,\n",
      "                     weights='uniform')\n",
      "--------------------------------------------------\n",
      "Accuracy of classifier on training set:76.0%\n",
      "--------------------------------------------------\n",
      "Accuracy of classifier on test set:69.0%\n",
      "--------------------------------------------------\n"
     ]
    },
    {
     "name": "stderr",
     "output_type": "stream",
     "text": [
      "C:\\Users\\hp\\Anaconda3\\lib\\site-packages\\sklearn\\ensemble\\forest.py:245: FutureWarning: The default value of n_estimators will change from 10 in version 0.20 to 100 in 0.22.\n",
      "  \"10 in version 0.20 to 100 in 0.22.\", FutureWarning)\n"
     ]
    },
    {
     "name": "stdout",
     "output_type": "stream",
     "text": [
      "              precision    recall  f1-score   support\n",
      "\n",
      "           0       0.75      0.90      0.82       849\n",
      "           1       0.83      0.63      0.71       674\n",
      "\n",
      "    accuracy                           0.78      1523\n",
      "   macro avg       0.79      0.76      0.77      1523\n",
      "weighted avg       0.78      0.78      0.77      1523\n",
      "\n",
      "--------------------------------------------------\n",
      "RandomForestClassifier(bootstrap=True, class_weight=None, criterion='gini',\n",
      "                       max_depth=None, max_features='auto', max_leaf_nodes=None,\n",
      "                       min_impurity_decrease=0.0, min_impurity_split=None,\n",
      "                       min_samples_leaf=1, min_samples_split=2,\n",
      "                       min_weight_fraction_leaf=0.0, n_estimators=10,\n",
      "                       n_jobs=None, oob_score=False, random_state=None,\n",
      "                       verbose=0, warm_start=False)\n",
      "--------------------------------------------------\n",
      "Accuracy of classifier on training set:97.0%\n",
      "--------------------------------------------------\n",
      "Accuracy of classifier on test set:78.0%\n",
      "--------------------------------------------------\n"
     ]
    }
   ],
   "source": [
    "# Loop through the list of models and use function to trian and make predictions\n",
    "for model in models:\n",
    "    predict(model,X_train_cv, y_train_cv,X_test_cv,y_test_cv)\n"
   ]
  },
  {
   "cell_type": "code",
   "execution_count": 37,
   "metadata": {},
   "outputs": [
    {
     "name": "stdout",
     "output_type": "stream",
     "text": [
      "              precision    recall  f1-score   support\n",
      "\n",
      "           0       0.79      0.88      0.83       849\n",
      "           1       0.82      0.70      0.76       674\n",
      "\n",
      "    accuracy                           0.80      1523\n",
      "   macro avg       0.81      0.79      0.80      1523\n",
      "weighted avg       0.80      0.80      0.80      1523\n",
      "\n",
      "Accuracy of classifier on training set:96.0%\n",
      "Accuracy of classifier on test set:80.0%\n"
     ]
    },
    {
     "name": "stderr",
     "output_type": "stream",
     "text": [
      "C:\\Users\\hp\\Anaconda3\\lib\\site-packages\\sklearn\\linear_model\\logistic.py:432: FutureWarning: Default solver will be changed to 'lbfgs' in 0.22. Specify a solver to silence this warning.\n",
      "  FutureWarning)\n"
     ]
    }
   ],
   "source": [
    "#From all the models above, logistic regression seems to be the best fitted model.\n",
    "# Fitting 'LogisticRegression()' with CountVectorizer() fit dataset\n",
    "\n",
    "clf_logreg = LogisticRegression(C=1.0)\n",
    "clf_logreg.fit(X_train_cv, y_train_cv)\n",
    "pred=clf_logreg.predict(X_test_cv)\n",
    "confusion_matrix(y_test_cv,pred)\n",
    "print(classification_report(y_test_cv,pred))\n",
    "print('Accuracy of classifier on training set:{}%'.format(round(clf_logreg.score(X_train_cv, y_train_cv)*100)))\n",
    "print('Accuracy of classifier on test set:{}%' .format(round(accuracy_score(y_test_cv,pred)*100)))\n"
   ]
  },
  {
   "cell_type": "code",
   "execution_count": 38,
   "metadata": {},
   "outputs": [
    {
     "data": {
      "text/plain": [
       "LogisticRegression(C=1.0, class_weight=None, dual=False, fit_intercept=True,\n",
       "                   intercept_scaling=1, l1_ratio=None, max_iter=100,\n",
       "                   multi_class='warn', n_jobs=None, penalty='l2',\n",
       "                   random_state=None, solver='warn', tol=0.0001, verbose=0,\n",
       "                   warm_start=False)"
      ]
     },
     "execution_count": 38,
     "metadata": {},
     "output_type": "execute_result"
    }
   ],
   "source": [
    "clf_logreg"
   ]
  },
  {
   "cell_type": "code",
   "execution_count": 39,
   "metadata": {},
   "outputs": [
    {
     "data": {
      "text/html": [
       "<div>\n",
       "<style scoped>\n",
       "    .dataframe tbody tr th:only-of-type {\n",
       "        vertical-align: middle;\n",
       "    }\n",
       "\n",
       "    .dataframe tbody tr th {\n",
       "        vertical-align: top;\n",
       "    }\n",
       "\n",
       "    .dataframe thead th {\n",
       "        text-align: right;\n",
       "    }\n",
       "</style>\n",
       "<table border=\"1\" class=\"dataframe\">\n",
       "  <thead>\n",
       "    <tr style=\"text-align: right;\">\n",
       "      <th></th>\n",
       "      <th>id</th>\n",
       "      <th>keyword</th>\n",
       "      <th>location</th>\n",
       "      <th>text</th>\n",
       "    </tr>\n",
       "  </thead>\n",
       "  <tbody>\n",
       "    <tr>\n",
       "      <td>0</td>\n",
       "      <td>0</td>\n",
       "      <td>NaN</td>\n",
       "      <td>NaN</td>\n",
       "      <td>happened terrible car crash</td>\n",
       "    </tr>\n",
       "    <tr>\n",
       "      <td>1</td>\n",
       "      <td>2</td>\n",
       "      <td>NaN</td>\n",
       "      <td>NaN</td>\n",
       "      <td>heard earthquake different city stay safe eve...</td>\n",
       "    </tr>\n",
       "    <tr>\n",
       "      <td>2</td>\n",
       "      <td>3</td>\n",
       "      <td>NaN</td>\n",
       "      <td>NaN</td>\n",
       "      <td>forest fire spot pond goose fleeing across st...</td>\n",
       "    </tr>\n",
       "    <tr>\n",
       "      <td>3</td>\n",
       "      <td>9</td>\n",
       "      <td>NaN</td>\n",
       "      <td>NaN</td>\n",
       "      <td>apocalypse lighting spokane wildfire</td>\n",
       "    </tr>\n",
       "    <tr>\n",
       "      <td>4</td>\n",
       "      <td>11</td>\n",
       "      <td>NaN</td>\n",
       "      <td>NaN</td>\n",
       "      <td>typhoon soudelor kill china taiwan</td>\n",
       "    </tr>\n",
       "    <tr>\n",
       "      <td>...</td>\n",
       "      <td>...</td>\n",
       "      <td>...</td>\n",
       "      <td>...</td>\n",
       "      <td>...</td>\n",
       "    </tr>\n",
       "    <tr>\n",
       "      <td>3258</td>\n",
       "      <td>10861</td>\n",
       "      <td>NaN</td>\n",
       "      <td>NaN</td>\n",
       "      <td>earthquake safety los angeles ûò safety faste...</td>\n",
       "    </tr>\n",
       "    <tr>\n",
       "      <td>3259</td>\n",
       "      <td>10865</td>\n",
       "      <td>NaN</td>\n",
       "      <td>NaN</td>\n",
       "      <td>storm ri worse last hurricane hardest hit yar...</td>\n",
       "    </tr>\n",
       "    <tr>\n",
       "      <td>3260</td>\n",
       "      <td>10868</td>\n",
       "      <td>NaN</td>\n",
       "      <td>NaN</td>\n",
       "      <td>green line derailment chicago</td>\n",
       "    </tr>\n",
       "    <tr>\n",
       "      <td>3261</td>\n",
       "      <td>10874</td>\n",
       "      <td>NaN</td>\n",
       "      <td>NaN</td>\n",
       "      <td>meg issue hazardous weather outlook hwo</td>\n",
       "    </tr>\n",
       "    <tr>\n",
       "      <td>3262</td>\n",
       "      <td>10875</td>\n",
       "      <td>NaN</td>\n",
       "      <td>NaN</td>\n",
       "      <td>cityofcalgary activated municipal emergency p...</td>\n",
       "    </tr>\n",
       "  </tbody>\n",
       "</table>\n",
       "<p>3263 rows × 4 columns</p>\n",
       "</div>"
      ],
      "text/plain": [
       "         id keyword location  \\\n",
       "0         0     NaN      NaN   \n",
       "1         2     NaN      NaN   \n",
       "2         3     NaN      NaN   \n",
       "3         9     NaN      NaN   \n",
       "4        11     NaN      NaN   \n",
       "...     ...     ...      ...   \n",
       "3258  10861     NaN      NaN   \n",
       "3259  10865     NaN      NaN   \n",
       "3260  10868     NaN      NaN   \n",
       "3261  10874     NaN      NaN   \n",
       "3262  10875     NaN      NaN   \n",
       "\n",
       "                                                   text  \n",
       "0                           happened terrible car crash  \n",
       "1      heard earthquake different city stay safe eve...  \n",
       "2      forest fire spot pond goose fleeing across st...  \n",
       "3                  apocalypse lighting spokane wildfire  \n",
       "4                    typhoon soudelor kill china taiwan  \n",
       "...                                                 ...  \n",
       "3258   earthquake safety los angeles ûò safety faste...  \n",
       "3259   storm ri worse last hurricane hardest hit yar...  \n",
       "3260                      green line derailment chicago  \n",
       "3261            meg issue hazardous weather outlook hwo  \n",
       "3262   cityofcalgary activated municipal emergency p...  \n",
       "\n",
       "[3263 rows x 4 columns]"
      ]
     },
     "execution_count": 39,
     "metadata": {},
     "output_type": "execute_result"
    }
   ],
   "source": [
    "test"
   ]
  },
  {
   "cell_type": "code",
   "execution_count": 40,
   "metadata": {},
   "outputs": [],
   "source": [
    "# Lets fit the test data with Countvectorizer() method to vectroize the data\n",
    "test_vector = count_vectorizer.transform(test[\"text\"])"
   ]
  },
  {
   "cell_type": "code",
   "execution_count": 41,
   "metadata": {},
   "outputs": [
    {
     "data": {
      "text/plain": [
       "<3263x15127 sparse matrix of type '<class 'numpy.int64'>'\n",
       "\twith 24093 stored elements in Compressed Sparse Row format>"
      ]
     },
     "execution_count": 41,
     "metadata": {},
     "output_type": "execute_result"
    }
   ],
   "source": [
    "test_vector"
   ]
  },
  {
   "cell_type": "code",
   "execution_count": 42,
   "metadata": {},
   "outputs": [],
   "source": [
    "prediction=clf_logreg.predict(test_vector)"
   ]
  },
  {
   "cell_type": "code",
   "execution_count": 43,
   "metadata": {},
   "outputs": [
    {
     "data": {
      "text/plain": [
       "array([1, 1, 1, ..., 1, 1, 0], dtype=int64)"
      ]
     },
     "execution_count": 43,
     "metadata": {},
     "output_type": "execute_result"
    }
   ],
   "source": [
    "prediction"
   ]
  },
  {
   "cell_type": "code",
   "execution_count": 44,
   "metadata": {},
   "outputs": [],
   "source": [
    "sub_file = pd.DataFrame()"
   ]
  },
  {
   "cell_type": "code",
   "execution_count": 45,
   "metadata": {},
   "outputs": [],
   "source": [
    "sub_file['Id'] = test.id\n",
    "sub_file['target'] = prediction"
   ]
  },
  {
   "cell_type": "code",
   "execution_count": 46,
   "metadata": {},
   "outputs": [
    {
     "data": {
      "text/html": [
       "<div>\n",
       "<style scoped>\n",
       "    .dataframe tbody tr th:only-of-type {\n",
       "        vertical-align: middle;\n",
       "    }\n",
       "\n",
       "    .dataframe tbody tr th {\n",
       "        vertical-align: top;\n",
       "    }\n",
       "\n",
       "    .dataframe thead th {\n",
       "        text-align: right;\n",
       "    }\n",
       "</style>\n",
       "<table border=\"1\" class=\"dataframe\">\n",
       "  <thead>\n",
       "    <tr style=\"text-align: right;\">\n",
       "      <th></th>\n",
       "      <th>Id</th>\n",
       "      <th>target</th>\n",
       "    </tr>\n",
       "  </thead>\n",
       "  <tbody>\n",
       "    <tr>\n",
       "      <td>0</td>\n",
       "      <td>0</td>\n",
       "      <td>1</td>\n",
       "    </tr>\n",
       "    <tr>\n",
       "      <td>1</td>\n",
       "      <td>2</td>\n",
       "      <td>1</td>\n",
       "    </tr>\n",
       "    <tr>\n",
       "      <td>2</td>\n",
       "      <td>3</td>\n",
       "      <td>1</td>\n",
       "    </tr>\n",
       "    <tr>\n",
       "      <td>3</td>\n",
       "      <td>9</td>\n",
       "      <td>1</td>\n",
       "    </tr>\n",
       "    <tr>\n",
       "      <td>4</td>\n",
       "      <td>11</td>\n",
       "      <td>1</td>\n",
       "    </tr>\n",
       "    <tr>\n",
       "      <td>...</td>\n",
       "      <td>...</td>\n",
       "      <td>...</td>\n",
       "    </tr>\n",
       "    <tr>\n",
       "      <td>3258</td>\n",
       "      <td>10861</td>\n",
       "      <td>1</td>\n",
       "    </tr>\n",
       "    <tr>\n",
       "      <td>3259</td>\n",
       "      <td>10865</td>\n",
       "      <td>1</td>\n",
       "    </tr>\n",
       "    <tr>\n",
       "      <td>3260</td>\n",
       "      <td>10868</td>\n",
       "      <td>1</td>\n",
       "    </tr>\n",
       "    <tr>\n",
       "      <td>3261</td>\n",
       "      <td>10874</td>\n",
       "      <td>1</td>\n",
       "    </tr>\n",
       "    <tr>\n",
       "      <td>3262</td>\n",
       "      <td>10875</td>\n",
       "      <td>0</td>\n",
       "    </tr>\n",
       "  </tbody>\n",
       "</table>\n",
       "<p>3263 rows × 2 columns</p>\n",
       "</div>"
      ],
      "text/plain": [
       "         Id  target\n",
       "0         0       1\n",
       "1         2       1\n",
       "2         3       1\n",
       "3         9       1\n",
       "4        11       1\n",
       "...     ...     ...\n",
       "3258  10861       1\n",
       "3259  10865       1\n",
       "3260  10868       1\n",
       "3261  10874       1\n",
       "3262  10875       0\n",
       "\n",
       "[3263 rows x 2 columns]"
      ]
     },
     "execution_count": 46,
     "metadata": {},
     "output_type": "execute_result"
    }
   ],
   "source": [
    "sub_file"
   ]
  },
  {
   "cell_type": "code",
   "execution_count": 47,
   "metadata": {},
   "outputs": [],
   "source": [
    "sub_file.loc[ :].to_csv('subm1.csv',index=False)"
   ]
  },
  {
   "cell_type": "code",
   "execution_count": 48,
   "metadata": {},
   "outputs": [
    {
     "data": {
      "text/html": [
       "<a download=\"data.csv\" href=\"data:text/csv;base64,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\" target=\"_blank\">Download CSV file</a>"
      ],
      "text/plain": [
       "<IPython.core.display.HTML object>"
      ]
     },
     "execution_count": 48,
     "metadata": {},
     "output_type": "execute_result"
    }
   ],
   "source": [
    "# function to create download link for prediction file\n",
    "import base64  \n",
    "from IPython.display import HTML\n",
    "\n",
    "def create_download_link( submission1, title = \"Download CSV file\", filename = \"data.csv\"):  \n",
    "    csv = submission1.to_csv()\n",
    "    b64 = base64.b64encode(csv.encode())\n",
    "    payload = b64.decode()\n",
    "    html = '<a download=\"{filename}\" href=\"data:text/csv;base64,{payload}\" target=\"_blank\">{title}</a>'\n",
    "    html = html.format(payload=payload,title=title,filename=filename)\n",
    "    return HTML(html)\n",
    "\n",
    "create_download_link(sub_file)"
   ]
  },
  {
   "cell_type": "code",
   "execution_count": null,
   "metadata": {},
   "outputs": [],
   "source": []
  }
 ],
 "metadata": {
  "kernelspec": {
   "display_name": "Python 3",
   "language": "python",
   "name": "python3"
  },
  "language_info": {
   "codemirror_mode": {
    "name": "ipython",
    "version": 3
   },
   "file_extension": ".py",
   "mimetype": "text/x-python",
   "name": "python",
   "nbconvert_exporter": "python",
   "pygments_lexer": "ipython3",
   "version": "3.6.9"
  }
 },
 "nbformat": 4,
 "nbformat_minor": 2
}
